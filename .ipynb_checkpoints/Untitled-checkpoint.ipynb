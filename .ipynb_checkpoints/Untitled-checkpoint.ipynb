{
 "cells": [
  {
   "cell_type": "code",
   "execution_count": 11,
   "metadata": {},
   "outputs": [
    {
     "data": {
      "text/plain": [
       "0    [{'type': 'way', 'ref': 407989542, 'role': ''}...\n",
       "Name: members, dtype: object"
      ]
     },
     "execution_count": 11,
     "metadata": {},
     "output_type": "execute_result"
    }
   ],
   "source": [
    "import pandas as pd\n",
    "import requests\n",
    "import json\n",
    "\n",
    "pd.set_option('display.max_colwidth', -1)\n",
    "\n",
    "q = '[out:json][timeout:25];relation[\"route\"=\"hiking\"](46.561516046166,-87.437782287598,46.582255876979,-87.39284992218);(._;>;);out;'\n",
    "ql = {'data':q}\n",
    "nct = requests.get('https://overpass-api.de/api/interpreter', params=ql)\n",
    "\n",
    "geoJlist = json.loads(nct.text)['elements']\n",
    "\n",
    "nodes = [element for element in geoJlist if element['type'] == \"node\"]\n",
    "ways = [element for element in geoJlist if element['type'] == \"way\"]\n",
    "relations = [element for element in geoJlist if element['type'] == \"relation\"]\n",
    "\n",
    "\n",
    "\n",
    "\n",
    "rel = pd.DataFrame(relations)\n",
    "\n",
    "rel.head()[\"members\"]\n",
    "\n"
   ]
  },
  {
   "cell_type": "code",
   "execution_count": null,
   "metadata": {},
   "outputs": [],
   "source": []
  }
 ],
 "metadata": {
  "kernelspec": {
   "display_name": "Python 3",
   "language": "python",
   "name": "python3"
  },
  "language_info": {
   "codemirror_mode": {
    "name": "ipython",
    "version": 3
   },
   "file_extension": ".py",
   "mimetype": "text/x-python",
   "name": "python",
   "nbconvert_exporter": "python",
   "pygments_lexer": "ipython3",
   "version": "3.6.3"
  }
 },
 "nbformat": 4,
 "nbformat_minor": 2
}
