{
 "cells": [
  {
   "cell_type": "code",
   "execution_count": 4,
   "metadata": {},
   "outputs": [
    {
     "ename": "TypeError",
     "evalue": "'tuple' object is not callable",
     "output_type": "error",
     "traceback": [
      "\u001b[0;31m---------------------------------------------------------------------------\u001b[0m",
      "\u001b[0;31mTypeError\u001b[0m                                 Traceback (most recent call last)",
      "\u001b[0;32m<ipython-input-4-a0e2157a0f79>\u001b[0m in \u001b[0;36m<module>\u001b[0;34m()\u001b[0m\n\u001b[1;32m     54\u001b[0m \u001b[0;34m\u001b[0m\u001b[0m\n\u001b[1;32m     55\u001b[0m \u001b[0melementDict\u001b[0m \u001b[0;34m=\u001b[0m \u001b[0mgetturbojson\u001b[0m\u001b[0;34m(\u001b[0m\u001b[0;34m)\u001b[0m\u001b[0;34m\u001b[0m\u001b[0m\n\u001b[0;32m---> 56\u001b[0;31m \u001b[0melementDict\u001b[0m\u001b[0;34m[\u001b[0m\u001b[0;34m'nod_df'\u001b[0m\u001b[0;34m]\u001b[0m\u001b[0;34m.\u001b[0m\u001b[0mshape\u001b[0m\u001b[0;34m(\u001b[0m\u001b[0;34m)\u001b[0m\u001b[0;34m\u001b[0m\u001b[0m\n\u001b[0m",
      "\u001b[0;31mTypeError\u001b[0m: 'tuple' object is not callable"
     ]
    }
   ],
   "source": [
    "import pandas as pd\n",
    "import requests\n",
    "import requests_cache\n",
    "import json\n",
    "import os\n",
    "import util\n",
    "\n",
    "requests_cache.install_cache('demo_cache')\n",
    "\n",
    "\n",
    "pd.set_option('display.max_colwidth', -1)\n",
    "\n",
    "# dataset for 1 trail\n",
    "# q = '[out:json][timeout:25];relation[\"route\"=\"hiking\"](46.561516046166,-87.437782287598,46.582255876979,-87.39284992218);(._;>;);out;'\n",
    "# ql = {'data':q}\n",
    "# mich = requests.get('https://overpass-api.de/api/interpreter', params=ql)\n",
    "\n",
    "# Gets whole dataset for state of Michigan\n",
    "def getturbojson(area=\"MI\"):\n",
    "\t\n",
    "\t# TODO: implement in util\n",
    "\t# areacode = util.getArea(area)\n",
    "\tareacode = '3600165789'\n",
    "\tquery = '[out:json][timeout:25];area({})->.searchArea;relation[\"route\"=\"hiking\"](area.searchArea);(._;>;);out;'.format(areacode)\n",
    "\tpckg = {'data':query}\n",
    "\touts = requests.get('https://overpass-api.de/api/interpreter', params=pckg)\n",
    "\tgeoJelements = json.loads(outs.text)['elements']\n",
    "\n",
    "\t# Filter objects by type\n",
    "\tfor element in geoJelements:\n",
    "\t\treturnDict = {}\n",
    "\t\t# print(element)\n",
    "\t\tnodes, ways, relations, other = [], [], [], []\n",
    "\t\tif element['type'] == \"node\":\n",
    "\t\t\tnodes.append(element)\n",
    "\t\telif element['type'] == \"way\":\n",
    "\t\t\tnodes.append(element)\n",
    "\t\telif element['type'] == \"relation\":\n",
    "\t\t\tnodes.append(element)\n",
    "\t\telse:\n",
    "\t\t\tother.append(element)\n",
    "\n",
    "\t# Enter into dataframes\n",
    "\trel_df = pd.DataFrame(relations)\n",
    "\tway_df = pd.DataFrame(ways)\n",
    "\tnod_df = pd.DataFrame(nodes)\n",
    "\n",
    "\treturnDict['rel_df'] = rel_df\n",
    "\treturnDict['way_df'] = way_df\t\n",
    "\treturnDict['nod_df'] = nod_df\n",
    "\n",
    "\treturn returnDict\n",
    "\t# return rel_df\n",
    "\n",
    "elementDict = getturbojson()\n",
    "elementDict['nod_df']"
   ]
  },
  {
   "cell_type": "code",
   "execution_count": null,
   "metadata": {},
   "outputs": [],
   "source": []
  },
  {
   "cell_type": "code",
   "execution_count": 96,
   "metadata": {},
   "outputs": [
    {
     "data": {
      "text/plain": [
       "4100079208"
      ]
     },
     "execution_count": 96,
     "metadata": {},
     "output_type": "execute_result"
    }
   ],
   "source": [
    "wa.loc[wa['id']==407989542]['nodes'][0][0]"
   ]
  },
  {
   "cell_type": "code",
   "execution_count": 65,
   "metadata": {},
   "outputs": [
    {
     "data": {
      "text/plain": [
       "0"
      ]
     },
     "execution_count": 65,
     "metadata": {},
     "output_type": "execute_result"
    }
   ],
   "source": [
    "407989542"
   ]
  },
  {
   "cell_type": "code",
   "execution_count": 103,
   "metadata": {},
   "outputs": [
    {
     "name": "stdin",
     "output_type": "stream",
     "text": [
      "Enter a palindrome starting with m, all lowercase, no punctuation modernnredom\n"
     ]
    },
    {
     "name": "stdout",
     "output_type": "stream",
     "text": [
      "Amazing, you should start your own business.\n"
     ]
    }
   ],
   "source": [
    "import enchant\n",
    "d = enchant.Dict(\"en_US\")\n",
    "\n",
    "my_phrase = input(\"Enter a palindrome starting with m, all lowercase, no punctuation\")\n",
    "newphrase = my_phrase.replace(\" \",\"\")\n",
    "back_phrase = \"\"\n",
    "for letter in newphrase:\n",
    "\tback_phrase = letter + back_phrase\n",
    "\n",
    "if my_phrase[0] == \"m\":\n",
    "\tif not newphrase == back_phrase and d.check(my_phrase):\n",
    "\t\tprint(\"You don't know palindromes at all.\")\n",
    "\telse:\n",
    "\t\tprint(\"Amazing, you should start your own business.\")\n",
    "elif not my_phrase[0] == \"m\":\n",
    "\tprint(\"Try again, loser\")"
   ]
  },
  {
   "cell_type": "code",
   "execution_count": null,
   "metadata": {},
   "outputs": [],
   "source": []
  }
 ],
 "metadata": {
  "kernelspec": {
   "display_name": "Python 3",
   "language": "python",
   "name": "python3"
  },
  "language_info": {
   "codemirror_mode": {
    "name": "ipython",
    "version": 3
   },
   "file_extension": ".py",
   "mimetype": "text/x-python",
   "name": "python",
   "nbconvert_exporter": "python",
   "pygments_lexer": "ipython3",
   "version": "3.6.3"
  }
 },
 "nbformat": 4,
 "nbformat_minor": 2
}
