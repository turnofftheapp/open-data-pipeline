{
 "cells": [
  {
   "cell_type": "code",
   "execution_count": null,
   "metadata": {},
   "outputs": [],
   "source": [
    "import pandas as pd\n",
    "import requests\n",
    "import requests_cache\n",
    "import json\n",
    "import os\n",
    "\n",
    "## HELPFUL UTILITY FUNCTIONS ##\n",
    "import util\n",
    "from pprint import pprint\n",
    "pd.set_option('display.max_colwidth', -1)"
   ]
  },
  {
   "cell_type": "markdown",
   "metadata": {},
   "source": [
    "Query OSM and return df of elements"
   ]
  },
  {
   "cell_type": "code",
   "execution_count": null,
   "metadata": {},
   "outputs": [],
   "source": [
    "query = '[out:json][timeout:25];area(3600165789)->.searchArea;relation[\"route\"=\"hiking\"](area.searchArea);(._;>;);out;'\n",
    "pckg = {'data':query}\n",
    "outs = requests.get('https://overpass-api.de/api/interpreter', params=pckg)\n",
    "geoJ = json.loads(outs.text)\n",
    "geoJelements = geoJ['elements']\n",
    "\n",
    "geoJelements_df = pd.DataFrame(geoJelements)"
   ]
  },
  {
   "cell_type": "markdown",
   "metadata": {},
   "source": [
    "Split df into 3 by type"
   ]
  },
  {
   "cell_type": "code",
   "execution_count": null,
   "metadata": {},
   "outputs": [],
   "source": [
    "geoJelements_df = queryToDf()\n",
    "dfs = [x for _, x in geoJelements_df.groupby('type')]\n",
    "node_df = dfs[0]\n",
    "rel_df = dfs[1]\n",
    "way_df = dfs[2]"
   ]
  },
  {
   "cell_type": "code",
   "execution_count": null,
   "metadata": {},
   "outputs": [],
   "source": [
    "rel_df.head()"
   ]
  }
 ],
 "metadata": {
  "kernelspec": {
   "display_name": "Python 3",
   "language": "python",
   "name": "python3"
  },
  "language_info": {
   "codemirror_mode": {
    "name": "ipython",
    "version": 3
   },
   "file_extension": ".py",
   "mimetype": "text/x-python",
   "name": "python",
   "nbconvert_exporter": "python",
   "pygments_lexer": "ipython3",
   "version": "3.6.3"
  }
 },
 "nbformat": 4,
 "nbformat_minor": 2
}
